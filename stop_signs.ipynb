{
 "cells": [
  {
   "cell_type": "code",
   "execution_count": 1,
   "id": "f9965060-a98d-405c-a5d8-0b1ac7c72897",
   "metadata": {},
   "outputs": [],
   "source": [
    "#! conda install -c pytorch torchvision\n",
    "#! pip install skillsnetwork tqdm\n",
    "#!pip install  skillsnetwork"
   ]
  },
  {
   "cell_type": "code",
   "execution_count": null,
   "id": "f765c3d5-f99d-412c-97a6-c12767b4e6a8",
   "metadata": {},
   "outputs": [],
   "source": [
    "import os\n",
    "import uuid\n",
    "import shutil\n",
    "import json\n",
    "from botocore.client import Config\n",
    "import ibm_boto3\n",
    "import copy\n",
    "from datetime import datetime\n",
    "from skillsnetwork import cvstudio "
   ]
  },
  {
   "cell_type": "markdown",
   "id": "4fdbb47a-c29c-419a-bf43-056e7f9f8bab",
   "metadata": {},
   "source": [
    "Libraries for Data Processing and Visualization"
   ]
  },
  {
   "cell_type": "code",
   "execution_count": null,
   "id": "c4de132a-a63f-4b07-b030-acf36bc446ab",
   "metadata": {},
   "outputs": [],
   "source": [
    "from PIL import Image\n",
    "import matplotlib.pyplot as plt\n",
    "import numpy as np\n",
    "import pandas as pd\n",
    "import math\n",
    "from matplotlib.pyplot import imshow\n",
    "from tqdm import tqdm\n",
    "from ipywidgets import IntProgress\n",
    "import time "
   ]
  },
  {
   "cell_type": "markdown",
   "id": "d4e50669-002e-4bcd-829b-f223cf4c956a",
   "metadata": {},
   "source": [
    "Deep Learning Libraries"
   ]
  },
  {
   "cell_type": "code",
   "execution_count": null,
   "id": "13847633-03ed-411d-929d-8b028adb0033",
   "metadata": {},
   "outputs": [],
   "source": [
    "import torch\n",
    "import torchvision.models as models\n",
    "from torch.utils.data import Dataset, DataLoader,random_split\n",
    "from torch.optim import lr_scheduler\n",
    "from torchvision import transforms\n",
    "import torch.nn as nn\n",
    "torch.manual_seed(0)"
   ]
  },
  {
   "cell_type": "markdown",
   "id": "dfd4116d-d907-430f-a0ef-a8f92158962f",
   "metadata": {},
   "source": [
    "Plot train cost and validation accuracy:"
   ]
  },
  {
   "cell_type": "code",
   "execution_count": null,
   "id": "85215831-1ece-4e37-92a4-de3cb035d7aa",
   "metadata": {},
   "outputs": [],
   "source": [
    "def plot_stuff(COST,ACC):    \n",
    "    fig, ax1 = plt.subplots()\n",
    "    color = 'tab:red'\n",
    "    ax1.plot(COST, color = color)\n",
    "    ax1.set_xlabel('Iteration', color = color)\n",
    "    ax1.set_ylabel('total loss', color = color)\n",
    "    ax1.tick_params(axis = 'y', color = color)\n",
    "    \n",
    "    ax2 = ax1.twinx()  \n",
    "    color = 'tab:blue'\n",
    "    ax2.set_ylabel('accuracy', color = color)  # we already handled the x-label with ax1\n",
    "    ax2.plot(ACC, color = color)\n",
    "    ax2.tick_params(axis = 'y', color = color)\n",
    "    fig.tight_layout()  # otherwise the right y-label is slightly clipped\n",
    "    \n",
    "    plt.show()"
   ]
  },
  {
   "cell_type": "markdown",
   "id": "2e66979d-35ee-4651-a722-567e8cacbd9c",
   "metadata": {},
   "source": [
    "Plot the transformed image:"
   ]
  },
  {
   "cell_type": "code",
   "execution_count": null,
   "id": "a4508a3a-6bb5-4be5-b045-ccc0e93d16dd",
   "metadata": {},
   "outputs": [],
   "source": [
    "def imshow_(inp, title=None):\n",
    "    \"\"\"Imshow for Tensor.\"\"\"\n",
    "    inp = inp .permute(1, 2, 0).numpy() \n",
    "    print(inp.shape)\n",
    "    mean = np.array([0.485, 0.456, 0.406])\n",
    "    std = np.array([0.229, 0.224, 0.225])\n",
    "    inp = std * inp + mean\n",
    "    inp = np.clip(inp, 0, 1)\n",
    "\n",
    "    plt.imshow(inp)\n",
    "    if title is not None:\n",
    "        plt.title(title)\n",
    "    plt.pause(0.001)  \n",
    "    plt.show()"
   ]
  },
  {
   "cell_type": "markdown",
   "id": "789b3992-9bf8-488e-909d-d2116b6ca4ea",
   "metadata": {},
   "source": [
    "Compare the prediction and actual value:"
   ]
  },
  {
   "cell_type": "code",
   "execution_count": null,
   "id": "c211432a-2498-46ce-abaf-88b4ff02720a",
   "metadata": {},
   "outputs": [],
   "source": [
    "def result(model,x,y):\n",
    "    #x,y=sample\n",
    "    z=model(x.unsqueeze_(0))\n",
    "    _,yhat=torch.max(z.data, 1)\n",
    "    \n",
    "    if yhat.item()!=y:\n",
    "        text=\"predicted: {} actual: {}\".format(str(yhat.item()),y)\n",
    "        print(text)"
   ]
  },
  {
   "cell_type": "markdown",
   "id": "45c91bf6-8e26-4c8e-9d84-65e20e475614",
   "metadata": {},
   "source": [
    "Define our device as the first visible cuda device if we have CUDA available:"
   ]
  },
  {
   "cell_type": "code",
   "execution_count": null,
   "id": "26dbb6fe-1885-47a8-8ed7-787409e0ab6f",
   "metadata": {},
   "outputs": [],
   "source": [
    "device = torch.device(\"cuda:0\" if torch.cuda.is_available() else \"cpu\")\n",
    "print(\"the device type is\", device)"
   ]
  },
  {
   "cell_type": "markdown",
   "id": "a00ab28e-28ad-4a60-8992-ab4042ba61ca",
   "metadata": {},
   "source": [
    "In this section we will preprocess our dataset by changing the shape of the image, converting to tensor and normalizing the image channels. These are the default preprocessing steps for image data. In addition, we will perform data augmentation on the training dataset. The preprocessing steps for the test dataset is the same, but W do not prform data augmentation on the test dataset."
   ]
  },
  {
   "cell_type": "markdown",
   "id": "371c530c-ca08-4ad5-a163-df8dd09d8c08",
   "metadata": {},
   "source": [
    "Download the data:"
   ]
  },
  {
   "cell_type": "code",
   "execution_count": null,
   "id": "bd0a649d-434c-4dd4-8df1-758d4b3ad5a7",
   "metadata": {},
   "outputs": [],
   "source": [
    "\n",
    "# Get the Dataset\n",
    "# Initialize the CV Studio Client\n",
    "cvstudioClient = cvstudio.CVStudio()\n",
    "# # Download All Images\n",
    "cvstudioClient.downloadAll()"
   ]
  },
  {
   "cell_type": "markdown",
   "id": "76ed5c39-effb-40a5-b8e2-a6b7e3260989",
   "metadata": {},
   "source": [
    "We need to get our training and validation dataset. 90% of the data will be used for training."
   ]
  },
  {
   "cell_type": "code",
   "execution_count": null,
   "id": "970d6c75-6bd0-4d04-ab3f-6b3e9947093c",
   "metadata": {},
   "outputs": [],
   "source": [
    "percentage_train=0.9\n",
    "train_set=cvstudioClient.getDataset(train_test='train',percentage_train=percentage_train)\n",
    "val_set=cvstudioClient.getDataset(train_test='test',percentage_train=percentage_train)"
   ]
  },
  {
   "cell_type": "markdown",
   "id": "98dbb662-2178-4a5c-92cb-ec11fdfafe82",
   "metadata": {},
   "source": [
    "We can plot some of our dataset:"
   ]
  },
  {
   "cell_type": "code",
   "execution_count": null,
   "id": "7101bfad-2092-4e6d-90c0-f55a165f2921",
   "metadata": {},
   "outputs": [],
   "source": [
    "i=0\n",
    "\n",
    "for x,y  in val_set:\n",
    "    imshow_(x,\"y=: {}\".format(str(y.item())))\n",
    "    i+=1\n",
    "    if i==3:\n",
    "        break"
   ]
  },
  {
   "cell_type": "markdown",
   "id": "507dbc37-8adf-4e77-8b1b-2baa2fb3fffe",
   "metadata": {},
   "source": [
    "<h1>Hyperparameters</h1>"
   ]
  },
  {
   "cell_type": "markdown",
   "id": "e5466a75-99c8-424c-8f52-56155f662bab",
   "metadata": {},
   "source": [
    "Experiment with different hyperparameters:"
   ]
  },
  {
   "cell_type": "markdown",
   "id": "55b5a8ae-4d62-4d66-b3ec-fb877dcc4eee",
   "metadata": {},
   "source": [
    "Epoch indicates the number of passes of the entire training dataset, here we will set the number of epochs to 10:"
   ]
  },
  {
   "cell_type": "code",
   "execution_count": null,
   "id": "d8aa6310-105c-4d0b-851d-cc86011e16fc",
   "metadata": {},
   "outputs": [],
   "source": [
    "n_epochs=10"
   ]
  },
  {
   "cell_type": "markdown",
   "id": "1c42d623-fa86-483a-8050-57ce1e300664",
   "metadata": {},
   "source": [
    "Batch size is the number of training samples utilized in one iteration. If the batch size is equal to the total number of samples in the training set, then every epoch has one iteration. "
   ]
  },
  {
   "cell_type": "code",
   "execution_count": null,
   "id": "ae449721-be65-4c2c-8d1d-59d016acbf50",
   "metadata": {},
   "outputs": [],
   "source": [
    "batch_size=32"
   ]
  },
  {
   "cell_type": "markdown",
   "id": "487364e5-ef2a-4bdd-b8fb-60c368e9cee0",
   "metadata": {},
   "source": [
    "Learning rate is used in the training of neural networks. Learning rate is a hyperparameter with a small positive value, often in the range between 0.0 and 1.0."
   ]
  },
  {
   "cell_type": "code",
   "execution_count": null,
   "id": "4d3778dc-8ed0-49c2-ba56-e4658f067acf",
   "metadata": {},
   "outputs": [],
   "source": [
    "lr=0.000001"
   ]
  },
  {
   "cell_type": "markdown",
   "id": "cfb76d5c-b1b7-4636-a09b-123cd56c1552",
   "metadata": {},
   "source": [
    "Momentum is a term used in the gradient descent algorithm to improve training results:"
   ]
  },
  {
   "cell_type": "code",
   "execution_count": null,
   "id": "742644c7-1991-4bf6-ac15-f55d103c32c9",
   "metadata": {},
   "outputs": [],
   "source": [
    "momentum=0.9"
   ]
  },
  {
   "cell_type": "code",
   "execution_count": null,
   "id": "90f2d322-2bb9-494a-959a-6078c702ee86",
   "metadata": {},
   "outputs": [],
   "source": [
    "lr_scheduler=True\n",
    "base_lr=0.001\n",
    "max_lr=0.01"
   ]
  },
  {
   "cell_type": "markdown",
   "id": "744b879c-6f64-4ad8-b95c-0a08856f347b",
   "metadata": {},
   "source": [
    "<h1>Load Model and Train</h1>"
   ]
  },
  {
   "cell_type": "markdown",
   "id": "569774c0-8029-44a7-a28e-79dacbdad4b4",
   "metadata": {},
   "source": [
    "This function will train the model"
   ]
  },
  {
   "cell_type": "code",
   "execution_count": null,
   "id": "4f309b2a-f420-4b20-8020-8079716d5d33",
   "metadata": {},
   "outputs": [],
   "source": [
    "def train_model(model, train_loader,validation_loader, criterion, optimizer, n_epochs,print_=True):\n",
    "    loss_list = []\n",
    "    accuracy_list = []\n",
    "    correct = 0\n",
    "    #global:val_set\n",
    "    n_test = len(val_set)\n",
    "    accuracy_best=0\n",
    "    best_model_wts = copy.deepcopy(model.state_dict())\n",
    "\n",
    "    # Loop through epochs\n",
    "        # Loop through the data in loader\n",
    "    print(\"The first epoch should take several minutes\")\n",
    "    for epoch in tqdm(range(n_epochs)):\n",
    "        \n",
    "        loss_sublist = []\n",
    "        # Loop through the data in loader\n",
    "\n",
    "        for x, y in train_loader:\n",
    "            x, y=x.to(device), y.to(device)\n",
    "            model.train() \n",
    "\n",
    "            z = model(x)\n",
    "            loss = criterion(z, y)\n",
    "            loss_sublist.append(loss.data.item())\n",
    "            loss.backward()\n",
    "            optimizer.step()\n",
    "\n",
    "            optimizer.zero_grad()\n",
    "        print(\"epoch {} done\".format(epoch) )\n",
    "\n",
    "        scheduler.step()    \n",
    "        loss_list.append(np.mean(loss_sublist))\n",
    "        correct = 0\n",
    "\n",
    "\n",
    "        for x_test, y_test in validation_loader:\n",
    "            x_test, y_test=x_test.to(device), y_test.to(device)\n",
    "            model.eval()\n",
    "            z = model(x_test)\n",
    "            _, yhat = torch.max(z.data, 1)\n",
    "            correct += (yhat == y_test).sum().item()\n",
    "        accuracy = correct / n_test\n",
    "        accuracy_list.append(accuracy)\n",
    "        if accuracy>accuracy_best:\n",
    "            accuracy_best=accuracy\n",
    "            best_model_wts = copy.deepcopy(model.state_dict())\n",
    "        \n",
    "        \n",
    "        if print_:\n",
    "            print('learning rate',optimizer.param_groups[0]['lr'])\n",
    "            print(\"The validaion  Cost for each epoch \" + str(epoch + 1) + \": \" + str(np.mean(loss_sublist)))\n",
    "            print(\"The validation accuracy for epoch \" + str(epoch + 1) + \": \" + str(accuracy)) \n",
    "    model.load_state_dict(best_model_wts)    \n",
    "    return accuracy_list,loss_list, model"
   ]
  },
  {
   "cell_type": "markdown",
   "id": "5dea9d7a-6afd-4fd9-99da-cd99d2aaea14",
   "metadata": {},
   "source": [
    "Load the pre-trained model resnet18. Set the parameter pretrained to true."
   ]
  },
  {
   "cell_type": "code",
   "execution_count": null,
   "id": "77555f2f-6a65-48ee-b419-bad0ff5769f1",
   "metadata": {},
   "outputs": [],
   "source": [
    " for param in model.parameters():\n",
    "        param.requires_grad = False"
   ]
  },
  {
   "cell_type": "code",
   "execution_count": null,
   "id": "6326403c-5fcd-4999-aaf6-0ce38098eae8",
   "metadata": {},
   "outputs": [],
   "source": [
    "n_classes=train_set.n_classes\n",
    "n_classes"
   ]
  },
  {
   "cell_type": "markdown",
   "id": "c5ac7c9b-1102-49ea-bfd1-f6a67d499f61",
   "metadata": {},
   "source": [
    "Replace the output layer model.fc of the neural network with a nn.Linear object, to classify n_classes different classes. For the parameters in_features remember the last hidden layer has 512 neurons."
   ]
  },
  {
   "cell_type": "code",
   "execution_count": null,
   "id": "d1135fc0-3dc8-4d37-b264-c5c2157f3d4f",
   "metadata": {},
   "outputs": [],
   "source": [
    "# Type your code here\n",
    "model.fc = nn.Linear(512, n_classes)"
   ]
  },
  {
   "cell_type": "code",
   "execution_count": null,
   "id": "46574d51-0b49-4d51-8f3a-698660830292",
   "metadata": {},
   "outputs": [],
   "source": [
    "model.to(device)"
   ]
  },
  {
   "cell_type": "code",
   "execution_count": null,
   "id": "cbf983f1-e45c-499c-8ca2-22ca61429cce",
   "metadata": {},
   "outputs": [],
   "source": [
    "criterion = nn.CrossEntropyLoss()"
   ]
  },
  {
   "cell_type": "markdown",
   "id": "871da050-fa17-4283-acbe-6eb24210e290",
   "metadata": {},
   "source": [
    "Create a training loader and validation loader object."
   ]
  },
  {
   "cell_type": "code",
   "execution_count": null,
   "id": "9e8e6dd5-cc79-4669-9045-777a52d94c93",
   "metadata": {},
   "outputs": [],
   "source": [
    "train_loader = torch.utils.data.DataLoader(dataset=train_set , batch_size=batch_size,shuffle=True)\n",
    "validation_loader= torch.utils.data.DataLoader(dataset=val_set , batch_size=1)"
   ]
  },
  {
   "cell_type": "code",
   "execution_count": null,
   "id": "21f3a0b2-3729-4e79-b4c6-0ae82509eb52",
   "metadata": {},
   "outputs": [],
   "source": [
    "optimizer = torch.optim.SGD(model.parameters(), lr=lr, momentum=momentum)"
   ]
  },
  {
   "cell_type": "code",
   "execution_count": null,
   "id": "8ac147f5-d5f5-4a99-a939-de03a5e73adb",
   "metadata": {},
   "outputs": [],
   "source": [
    "if lr_scheduler:\n",
    "    scheduler = torch.optim.lr_scheduler.CyclicLR(optimizer, base_lr=0.001, max_lr=0.01,step_size_up=5,mode=\"triangular2\")"
   ]
  },
  {
   "cell_type": "code",
   "execution_count": null,
   "id": "ab822e24-4f37-48b4-9c4b-4b13abf45cae",
   "metadata": {},
   "outputs": [],
   "source": [
    "start_datetime = datetime.now()\n",
    "start_time=time.time()\n",
    "\n",
    "accuracy_list,loss_list, model=train_model(model,train_loader , validation_loader, criterion, optimizer, n_epochs=n_epochs)\n",
    "\n",
    "end_datetime = datetime.now()\n",
    "current_time = time.time()\n",
    "elapsed_time = current_time - start_time\n",
    "print(\"elapsed time\", elapsed_time )"
   ]
  },
  {
   "cell_type": "markdown",
   "id": "bc737301-0097-4dfe-aa71-cd02a7e98058",
   "metadata": {},
   "source": [
    "Now run the following to report back the results of the training run to CV Studio"
   ]
  },
  {
   "cell_type": "code",
   "execution_count": null,
   "id": "eccf17a5-173b-42f1-8bd0-5670e89a34b5",
   "metadata": {},
   "outputs": [],
   "source": [
    "\n",
    "\n",
    "parameters = {\n",
    "    'epochs': n_epochs,\n",
    "    'learningRate': lr,\n",
    "    'momentum':momentum,\n",
    "    'percentage used training':percentage_train,\n",
    "    \"learningRatescheduler\": {\"lr_scheduler\":lr_scheduler,\"base_lr\":base_lr, \"max_lr\" :max_lr}\n",
    "    \n",
    "    \n",
    "}\n",
    "result = cvstudioClient.report(started=start_datetime, completed=end_datetime, parameters=parameters, accuracy={ 'accuracy': accuracy_list, 'loss': loss_list })\n",
    "\n",
    "if result.ok:\n",
    "    print('Congratulations your results have been reported back to CV Studio!')"
   ]
  },
  {
   "cell_type": "markdown",
   "id": "e542b8f9-7192-4851-a366-261df056cd34",
   "metadata": {},
   "source": [
    "Save the model to model.pt"
   ]
  },
  {
   "cell_type": "code",
   "execution_count": null,
   "id": "a29f5c2c-709f-4dbf-81ef-f02a67df875e",
   "metadata": {},
   "outputs": [],
   "source": [
    "# Save the model to model.pt\n",
    "torch.save(model.state_dict(), 'model.pt')\n",
    "\n",
    "# Save the model and report back to CV Studio\n",
    "result = cvstudioClient.uploadModel('model.pt', {'numClasses': n_classes})"
   ]
  },
  {
   "cell_type": "code",
   "execution_count": null,
   "id": "d3acf432-6fd8-4cd0-9822-28d369a16337",
   "metadata": {},
   "outputs": [],
   "source": [
    "plot_stuff(loss_list,accuracy_list)"
   ]
  },
  {
   "cell_type": "markdown",
   "id": "4bfd7120-23b6-473f-8e82-eedd731e2101",
   "metadata": {},
   "source": [
    "Load the model that performs best:"
   ]
  },
  {
   "cell_type": "code",
   "execution_count": null,
   "id": "3a61dbbd-d01f-4c8d-9a39-b8c7eb4da0cd",
   "metadata": {},
   "outputs": [],
   "source": [
    "model = models.resnet18(pretrained=True)\n",
    "model.fc = nn.Linear(512, n_classes)\n",
    "model.load_state_dict(torch.load( \"model.pt\"))\n",
    "model.eval()"
   ]
  },
  {
   "cell_type": "markdown",
   "id": "1975eaf7-6dcb-431e-9693-08d65aa72d96",
   "metadata": {},
   "source": [
    "So that we have deployed the model. Then we will get the output what stop sign on the road either not stop."
   ]
  },
  {
   "cell_type": "code",
   "execution_count": null,
   "id": "e82b5d4a-3c52-4a0d-bbed-172ded52db03",
   "metadata": {},
   "outputs": [],
   "source": []
  }
 ],
 "metadata": {
  "kernelspec": {
   "display_name": "Python 3 (ipykernel)",
   "language": "python",
   "name": "python3"
  },
  "language_info": {
   "codemirror_mode": {
    "name": "ipython",
    "version": 3
   },
   "file_extension": ".py",
   "mimetype": "text/x-python",
   "name": "python",
   "nbconvert_exporter": "python",
   "pygments_lexer": "ipython3",
   "version": "3.11.5"
  }
 },
 "nbformat": 4,
 "nbformat_minor": 5
}
